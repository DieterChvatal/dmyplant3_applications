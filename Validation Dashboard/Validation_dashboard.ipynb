{
 "cells": [
  {
   "cell_type": "code",
   "execution_count": 1,
   "metadata": {},
   "outputs": [],
   "source": [
    "%load_ext autoreload\n",
    "%aimport -pandas, -numpy\n",
    "%autoreload 2\n",
    "#Version 1.2\n",
    "\n",
    "from bokeh.io import push_notebook, show, output_notebook, save\n",
    "from bokeh.plotting import figure, output_file, show\n",
    "from bokeh.models import LinearAxis, Range1d, HoverTool\n",
    "from bokeh.layouts import column, row, gridplot, layout\n",
    "from bokeh.models import ColumnDataSource, Div\n",
    "from bokeh.models.widgets import Panel, Tabs\n",
    "import bokeh\n",
    "\n",
    "from itertools import cycle\n",
    "import dmyplant2\n",
    "from dmyplant2.dPlot import bokeh_chart, datastr_to_dict, expand_cylinder, shrink_cylinder, load_pltcfg_from_excel,show_val_stats\n",
    "import arrow\n",
    "\n",
    "\n",
    "import pandas as pd\n",
    "import numpy as np\n",
    "import math\n",
    "import traceback\n",
    "import matplotlib\n",
    "import sys\n",
    "import warnings\n",
    "import logging\n",
    "import datetime\n",
    "import pytz\n",
    "import os \n",
    "\n",
    "warnings.simplefilter(action='ignore', category=pd.errors.PerformanceWarning)\n",
    "\n",
    "logging.basicConfig(\n",
    "    filename='dmyplant.log',\n",
    "    filemode='w',\n",
    "    format='%(asctime)s %(levelname)s, %(message)s',\n",
    "    level=logging.INFO\n",
    ")\n",
    "logging.captureWarnings(True)"
   ]
  },
  {
   "cell_type": "code",
   "execution_count": 2,
   "metadata": {},
   "outputs": [
    {
     "name": "stderr",
     "output_type": "stream",
     "text": [
      "100%|██████████| 3/3 [00:10<00:00,  3.43s/it]\n"
     ]
    }
   ],
   "source": [
    "dmyplant2.cred()\n",
    "mp = dmyplant2.MyPlant(3600)\n",
    "\n",
    "try:\n",
    "    class myEngine(dmyplant2.Engine):\n",
    "        @ property\n",
    "        def dash(self):\n",
    "            _dash = dict()\n",
    "            _dash['Name'] = self['Name']\n",
    "            _dash['serialNumber'] = self['serialNumber'] #self.serialNumber\n",
    "            _dash['Site'] = self['IB Site Name'] #self.get_property('IB Site Name') \n",
    "            _dash['Engine ID'] = self['Engine ID'] #self.get_property('Engine ID')\n",
    "            _dash['Design Number'] = self['Design Number'] #self.get_property('Design Number')\n",
    "            _dash['Engine Type'] = self['Engine Type'] #self.get_property('Engine Type')\n",
    "            _dash['Engine Version'] = self['Engine Version'] #self.get_property('Engine Version')\n",
    "            _dash['Gas type'] = self['Gas Type'] #self.get_property('Gas Type')\n",
    "            _dash['Country'] = self['Country'] #self.get_property('Country')\n",
    "            _dash['OPH Engine'] = self['Count_OpHour'] #self.Count_OpHour\n",
    "            _dash['OPH Validation'] = self['oph_parts'] #self.oph_parts\n",
    "            _dash['P_nom'] = self.Pmech_nominal\n",
    "            _dash['BMEP'] = self.BMEP\n",
    "            _dash['LOC'] = self.get_dataItem(\n",
    "                'RMD_ListBuffMAvgOilConsume_OilConsumption')\n",
    "            return _dash\n",
    "\n",
    "    dval=dmyplant2.Validation.load_def_excel('Input_validation_dashboard.xlsx', 'Engines', mp) #Loading of validation engine data from excel\n",
    "    vl = dmyplant2.Validation(mp, dval, lengine=myEngine, cui_log=False)\n",
    "    logging.info('Engine properties loaded')\n",
    "\n",
    "except Exception as e:\n",
    "    print(e)\n",
    "    if str(e)==\"'Engine' object has no attribute 'asset'\":\n",
    "        print ('Possible cause: No internet connection')\n",
    "    #traceback.print_tb(e.__traceback__)\n",
    "    #sys.exit(1)"
   ]
  },
  {
   "cell_type": "code",
   "execution_count": 3,
   "metadata": {},
   "outputs": [
    {
     "name": "stdout",
     "output_type": "stream",
     "text": [
      "Downloading data for REGENSBURG\n",
      "\n",
      "Downloading data for ECOGEN ENERGY SYSTEMS BVBA\n",
      "Inlet valve closure timing plot has no data, not shown in the dashboard\n",
      "Outlet valve closure timing plot has no data, not shown in the dashboard\n",
      "Inlet valve closure noise plot has no data, not shown in the dashboard\n",
      "Outlet valve closure noise plot has no data, not shown in the dashboard\n",
      "\n",
      "Downloading data for BMW REGENSBURG M3\n"
     ]
    },
    {
     "name": "stderr",
     "output_type": "stream",
     "text": [
      "INFO:bokeh.io.state:Session output file 'Validation dashboard (21_01_01 03_00 - 22_01_07 01_00).html' already exists, will be overwritten.\n"
     ]
    },
    {
     "name": "stdout",
     "output_type": "stream",
     "text": [
      "\n"
     ]
    }
   ],
   "source": [
    "vd = dmyplant2.ValidationDashboard('Input_validation_dashboard.xlsx')\n",
    "vd.all_code(vl)"
   ]
  }
 ],
 "metadata": {
  "interpreter": {
   "hash": "c6f67f619c507261adfd1b3e240aa811c30c01a6fda948b8c554a6dc6da6c080"
  },
  "kernelspec": {
   "display_name": "Python 3.8.5 64-bit ('base': conda)",
   "name": "python3"
  },
  "language_info": {
   "codemirror_mode": {
    "name": "ipython",
    "version": 3
   },
   "file_extension": ".py",
   "mimetype": "text/x-python",
   "name": "python",
   "nbconvert_exporter": "python",
   "pygments_lexer": "ipython3",
   "version": "3.8.5"
  },
  "orig_nbformat": 2
 },
 "nbformat": 4,
 "nbformat_minor": 2
}
